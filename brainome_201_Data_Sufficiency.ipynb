{
 "cells": [
  {
   "cell_type": "markdown",
   "id": "cfebebd9",
   "metadata": {},
   "source": [
    "![](https://www.brainome.ai/wp-content/uploads/2020/08/brainome_logo.png)\n",
    "# 201 Data Sufficiency\n",
    "Use Capacity Progression to determine - \n",
    "\n",
    "_Does my data have a discernible function?_ and _How much data do I really need?_\n",
    "\n",
    "> Capacity progression measures the learnability of a dataset, by plotting the number of decisions needed to memorize the function presented by the training data relative to the number of instances presented to the predictor  (for an ideal model).*\n",
    "From the [Brainome Glossary](https://www.brainome.ai/documentation/glossary/#CapacityProgression)\n",
    "\n",
    "1. Random Data Set Capacity Progression\n",
    "2. Deterministic Data Set CP\n",
    "3. Real World Data Set CP\n",
    "4. Measures to Improve CP"
   ]
  },
  {
   "cell_type": "markdown",
   "id": "789010a0",
   "metadata": {},
   "source": [
    "## Prerequisites\n",
    "This notebook assumes brainome is installed as per notebook [brainome_101_Quick_Start](brainome_101_Quick_Start.ipynb)\n",
    "\n",
    "The training data sets are:\n",
    "* [test_data9.csv](https://download.brainome.ai/data/public/test_data9.csv) for random data. Sourced from [Kaggle](https://www.kaggle.com/timoboz/completely-random-dataset/version/3)\n",
    "* [vehicle.csv](https://download.brainome.ai/data/public/vehicle.csv) for deterministic data.\n",
    "* [titanic_train.csv](https://download.brainome.ai/data/public/titanic_train.csv) for real world data.\n"
   ]
  },
  {
   "cell_type": "code",
   "execution_count": 1,
   "id": "d19334ae",
   "metadata": {},
   "outputs": [
    {
     "name": "stdout",
     "output_type": "stream",
     "text": [
      "brainome v1.8-120-prod\n",
      "\n",
      "\n",
      "\n",
      "\n"
     ]
    }
   ],
   "source": [
    "!brainome -version"
   ]
  },
  {
   "cell_type": "markdown",
   "id": "72975533",
   "metadata": {},
   "source": [
    "## 1.  Random Data Set Capacity Progression\n",
    "The Capacity Progression of a random data set displays an ever increasing linear function."
   ]
  },
  {
   "cell_type": "code",
   "execution_count": 2,
   "id": "53f7c9b4",
   "metadata": {},
   "outputs": [
    {
     "name": "stdout",
     "output_type": "stream",
     "text": [
      "Capacity Progression:             at [ 5%, 10%, 20%, 40%, 80%, 100% ]\n",
      "    Ideal Machine Learner:              6,   7,   8,   9,   9,  10\n"
     ]
    }
   ],
   "source": [
    "!brainome https://download.brainome.ai/data/public/test_data9.csv -y -target SomeEmail -measureonly | grep -A 1 Capacity -"
   ]
  },
  {
   "cell_type": "markdown",
   "id": "3d2325ad",
   "metadata": {},
   "source": [
    "## 2. Deterministic Data Set CP\n",
    "The Capacity Progression of a deterministic data set displays a plateau. In this case, 40% of the data has enough information content to train a strong model."
   ]
  },
  {
   "cell_type": "code",
   "execution_count": 3,
   "id": "bfbf5913",
   "metadata": {
    "tags": [
     "output_scroll"
    ]
   },
   "outputs": [
    {
     "name": "stdout",
     "output_type": "stream",
     "text": [
      "Capacity Progression:             at [ 5%, 10%, 20%, 40%, 80%, 100% ]\n",
      "    Ideal Machine Learner:              6,   7,   8,   9,   9,   9\n"
     ]
    }
   ],
   "source": [
    "!brainome https://download.brainome.ai/data/public/vehicle.csv -y -measureonly | grep -A 1 Capacity -"
   ]
  },
  {
   "cell_type": "markdown",
   "id": "715fee81",
   "metadata": {},
   "source": [
    "## 3. Real World Data Set CP\n",
    "The Capacity Progression of a real world data set is somewhere in the middle."
   ]
  },
  {
   "cell_type": "code",
   "execution_count": null,
   "id": "3a727df3",
   "metadata": {},
   "outputs": [],
   "source": [
    "!brainome https://download.brainome.ai/data/public/titanic_train.csv -y -measureonly | grep -A 1 Capacity -"
   ]
  },
  {
   "cell_type": "markdown",
   "id": "2da02d31",
   "metadata": {},
   "source": [
    "## 4. How to improve your data set's CP\n",
    "Typical actions to improve the learnability of your data:\n",
    "* Add more instances\n",
    "* Reduce features\n",
    "* Refactor features"
   ]
  },
  {
   "cell_type": "markdown",
   "id": "9e36fb88",
   "metadata": {},
   "source": [
    "## Next Steps\n",
    "- Check out [brainome_203_Right_Sizing_Data_Sets](./brainome_203_Right_Sizing_Data_Sets.ipynb)"
   ]
  }
 ],
 "metadata": {
  "kernelspec": {
   "display_name": "Python 3 (ipykernel)",
   "language": "python",
   "name": "python3"
  },
  "language_info": {
   "codemirror_mode": {
    "name": "ipython",
    "version": 3
   },
   "file_extension": ".py",
   "mimetype": "text/x-python",
   "name": "python",
   "nbconvert_exporter": "python",
   "pygments_lexer": "ipython3",
   "version": "3.8.1"
  }
 },
 "nbformat": 4,
 "nbformat_minor": 5
}
