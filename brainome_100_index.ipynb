{
 "cells": [
  {
   "cell_type": "markdown",
   "metadata": {},
   "source": [
    "![brainome logo](./images/brainome_logo.png)\n",
    "# Brainome Tutorials\n",
    "This set of Jupyter notebooks will give you a comprehensive tour of the brainome table compiler's unique capabilities, from its basic functionality to the advanced integration options.\n",
    "\n",
    "[RUN THIS NOW FOR FREE](https://colab.research.google.com/github/brainome/jupyter/blob/main/brainome_100_index.ipynb) on Google Colab, [clone from github](https://github.com/brainome/jupyter) to run on your own Jupyter/JupyterLab instance, or simply [browse the html snapshot](https://jupyter.brainome.ai).\n",
    "\n",
    "## Getting started with brainome\n",
    "* [Running this tutorial](./README.md)\n",
    "* [101 Quick Start](./brainome_101_Quick_Start.ipynb)\n",
    "* [102 Using CLI](./brainome_102_Using_CLI.ipynb)\n",
    "* [103 Model Selection](./brainome_103_Model_Selection.ipynb)\n",
    "* [104 Using Predictor](./brainome_104_Using_Predictor.ipynb)\n",
    "* [105 Sourcing Your Data Set](./brainome_105_Sourcing_Your_Data_Set.ipynb)\n",
    "* [106 Describe Your CSV](./brainome_106_Describe_Your_CSV.ipynb)\n",
    "\n",
    "## [Using Measurement to Create Better Models](./brainome_200_Using_Measurement.ipynb)\n",
    "## [Integrating Predictors in Python](./brainome_300_Integrating_Predictors.ipynb)\n"
   ]
  },
  {
   "cell_type": "code",
   "execution_count": null,
   "metadata": {},
   "outputs": [],
   "source": []
  }
 ],
 "metadata": {
  "kernelspec": {
   "display_name": "Python 3 (ipykernel)",
   "language": "python",
   "name": "python3"
  },
  "language_info": {
   "codemirror_mode": {
    "name": "ipython",
    "version": 3
   },
   "file_extension": ".py",
   "mimetype": "text/x-python",
   "name": "python",
   "nbconvert_exporter": "python",
   "pygments_lexer": "ipython3",
   "version": "3.8.1"
  }
 },
 "nbformat": 4,
 "nbformat_minor": 4
}
