{
 "cells": [
  {
   "cell_type": "markdown",
   "id": "703b5e61",
   "metadata": {},
   "source": [
    "![brainome logo](./images/brainome_logo.png)\n",
    "# 101 Quick Start\n",
    "Running brainome in five easy steps:\n",
    "1. Install brainome via pip\n",
    "2. Download data sets\n",
    "3. Create your first predictor\n",
    "4. Validate the model\n",
    "5. Making predictions on new data"
   ]
  },
  {
   "cell_type": "markdown",
   "id": "27f5d236",
   "metadata": {},
   "source": [
    "## 1. Check brainome installation & version\n",
    "If you are running this in [Cloudburst](https://cloudburst.host), **brainome** should be pre-installed."
   ]
  },
  {
   "cell_type": "code",
   "execution_count": null,
   "id": "01365cb1",
   "metadata": {},
   "outputs": [],
   "source": [
    "!brainome --version"
   ]
  },
  {
   "cell_type": "markdown",
   "id": "7ae71992",
   "metadata": {},
   "source": [
    "## 2. Download this tutorial's data sets.\n",
    "The titanic data set is a commonly used for introduction to data science. It is a passenger manifest of the Titanic including whether they survived the disaster or not. For more information, refer to [kaggle.com/c/titanic](https://www.kaggle.com/c/titanic)"
   ]
  },
  {
   "cell_type": "code",
   "execution_count": null,
   "id": "446e86f8",
   "metadata": {
    "scrolled": true
   },
   "outputs": [],
   "source": [
    "import urllib.request as request\n",
    "response1 = request.urlretrieve('https://download.brainome.ai/data/public/titanic_train.csv', 'titanic_train.csv')\n",
    "response2 = request.urlretrieve('https://download.brainome.ai/data/public/titanic_validate.csv', 'titanic_validate.csv')\n",
    "response3 = request.urlretrieve('https://download.brainome.ai/data/public/titanic_predict.csv', 'titanic_predict.csv')\n",
    "%ls -lh titanic_train.csv titanic_validate.csv titanic_predict.csv"
   ]
  },
  {
   "cell_type": "markdown",
   "id": "7e8a3b84",
   "metadata": {},
   "source": [
    "### Preview training data\n",
    "The goal of the training is to predict which passenger survived the diaster.\n",
    "\n",
    "The passenger roster contains 11 features (PassengerId, Cabin_Class, Name, etc) for 800 passengers that can be used to create a model. Hence, the target column is 'Survived'.\n",
    "\n",
    "You can download the training data at [titanic_train.csv](https://download.brainome.ai/data/public/titanic_train.csv)"
   ]
  },
  {
   "cell_type": "code",
   "execution_count": null,
   "id": "ea0d21b6",
   "metadata": {
    "tags": [
     "output_scroll"
    ]
   },
   "outputs": [],
   "source": [
    "# preview uses pandas to read and display csv data\n",
    "import pandas as pd\n",
    "pd.read_csv('titanic_train.csv')"
   ]
  },
  {
   "cell_type": "markdown",
   "id": "cecc2102",
   "metadata": {},
   "source": [
    "## 3. Create your first predictor\n",
    "In its simplest invocation, brainome will automatically measure your data, identify the best model, build it, train it, and validate it.  \n",
    "\n",
    "It will automatically split your data into training and validation.\n",
    "\n",
    "The output is python source code in `predictor_101.py`.\n",
    "\n",
    "This process takes some time and produces a good deal of output text. Scroll down to step 4 when the status bar at the bottom of the page says **Idle**."
   ]
  },
  {
   "cell_type": "code",
   "execution_count": null,
   "id": "8d0dde1a",
   "metadata": {},
   "outputs": [],
   "source": [
    "!brainome titanic_train.csv --yes -o predictor_101.py"
   ]
  },
  {
   "cell_type": "markdown",
   "id": "496ebbb2-7e3d-4d15-bddf-7fd0a0c869ee",
   "metadata": {},
   "source": [
    "## 4. Review the generated source code"
   ]
  },
  {
   "cell_type": "markdown",
   "id": "0c259641",
   "metadata": {},
   "source": [
    "We are going to open the generated file in a python-aware code editor. Press `ctrl+shift+[` or click on the `brainome_101_Quick_Start` tab to get back to this tutorial.\n",
    "\n",
    "[Open predictor_101 in the editor](./predictor_101.py)"
   ]
  },
  {
   "cell_type": "markdown",
   "id": "7a37fc6e",
   "metadata": {},
   "source": [
    "## 5. Validate the model\n",
    "Running your predictor on an unseen data set demonstrates its effectiveness.\n",
    "\n",
    "You can download the validation data at [titanic_validate.csv](https://download.brainome.ai/data/public/titanic_validate.csv)"
   ]
  },
  {
   "cell_type": "code",
   "execution_count": null,
   "id": "7adb3709",
   "metadata": {},
   "outputs": [],
   "source": [
    "!python3 predictor_101.py -validate titanic_validate.csv"
   ]
  },
  {
   "cell_type": "markdown",
   "id": "53ba80e7",
   "metadata": {},
   "source": [
    "## 6. Making predictions on new data\n",
    "Run your predictor on an unlabeled data set to generate predictions for other passengers.\n",
    "\n",
    "You can download the prediction data at [titanic_predict.csv](https://download.brainome.ai/data/public/titanic_predict.csv)"
   ]
  },
  {
   "cell_type": "code",
   "execution_count": null,
   "id": "8d3b591f",
   "metadata": {},
   "outputs": [],
   "source": [
    "!python3 predictor_101.py titanic_predict.csv > predictions_101.csv\n",
    "pd.read_csv('predictions_101.csv')"
   ]
  },
  {
   "cell_type": "markdown",
   "id": "fc4bc793",
   "metadata": {},
   "source": [
    "## Next steps\n",
    "- Check out [102 Using CLI](./brainome_102_Using_CLI.ipynb)\n",
    "- Check out [Using Measurement to Create Better Models](./brainome_200_Using_Measurement.ipynb)"
   ]
  }
 ],
 "metadata": {
  "kernelspec": {
   "display_name": "Python 3 (ipykernel)",
   "language": "python",
   "name": "python3"
  },
  "language_info": {
   "codemirror_mode": {
    "name": "ipython",
    "version": 3
   },
   "file_extension": ".py",
   "mimetype": "text/x-python",
   "name": "python",
   "nbconvert_exporter": "python",
   "pygments_lexer": "ipython3",
   "version": "3.8.1"
  }
 },
 "nbformat": 4,
 "nbformat_minor": 5
}
