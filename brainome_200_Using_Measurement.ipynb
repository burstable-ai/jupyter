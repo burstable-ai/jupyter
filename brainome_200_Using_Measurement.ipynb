{
 "cells": [
  {
   "cell_type": "markdown",
   "metadata": {},
   "source": [
    "![brainome logo](./images/brainome_logo.png)\n",
    "# Using Measurement to Create Better Models\n",
    "- [brainome_201_Data_Sufficiency](./brainome_201_Data_Sufficiency.ipynb)\n",
    "- [brainome_202_Improving_Learnability](./brainome_202_Improving_Learnability.ipynb)\n",
    "- brainome_203_Right_Sizing_Data_Sets\n",
    "- brainome_204_How_Smart_Is_My_Model\n",
    "- brainome_205_Detecting_Data_Drift\n",
    "- brainome_206_Generalization\n",
    "- brainome_207_Ranking_Features\n",
    "- brainome_208_Advanced_Ranking\n",
    "- brainome_210_High_Dimensionality\n",
    "- brainome_211_Measuring_Bias\n",
    "- brainome_212_Unbalanced_Data\n",
    "\n",
    "## [Integrating Predictors in Python](./brainome_300_Integrating_Predictors.ipynb)"
   ]
  }
 ],
 "metadata": {
  "kernelspec": {
   "display_name": "Python 3 (ipykernel)",
   "language": "python",
   "name": "python3"
  },
  "language_info": {
   "codemirror_mode": {
    "name": "ipython",
    "version": 3
   },
   "file_extension": ".py",
   "mimetype": "text/x-python",
   "name": "python",
   "nbconvert_exporter": "python",
   "pygments_lexer": "ipython3",
   "version": "3.8.1"
  }
 },
 "nbformat": 4,
 "nbformat_minor": 4
}
