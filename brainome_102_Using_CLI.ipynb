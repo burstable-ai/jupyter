{
 "cells": [
  {
   "cell_type": "markdown",
   "id": "f6a60e7a",
   "metadata": {},
   "source": [
    "![brainome logo](./images/brainome_logo.png)\n",
    "# 102 Using brainome CLI\n",
    "Brainome's primary interface is the command line.\n",
    "1. brainome command line --help\n",
    "2. CLI documentation in depth"
   ]
  },
  {
   "cell_type": "markdown",
   "id": "2f00ca3f",
   "metadata": {},
   "source": [
    "## Prerequisites\n",
    "This notebook assumes brainome is installed per notebook [brainome_101_Quick_Start](brainome_101_Quick_Start.ipynb)"
   ]
  },
  {
   "cell_type": "code",
   "execution_count": null,
   "id": "ff41fc24",
   "metadata": {},
   "outputs": [],
   "source": [
    "!brainome --version"
   ]
  },
  {
   "cell_type": "markdown",
   "id": "55700465",
   "metadata": {},
   "source": [
    "## 1. brainome help\n",
    "Ever forget a command parameter? Want to know what else we can do?"
   ]
  },
  {
   "cell_type": "code",
   "execution_count": null,
   "id": "b0f2c1ce",
   "metadata": {},
   "outputs": [],
   "source": [
    "!brainome --help"
   ]
  },
  {
   "cell_type": "markdown",
   "id": "ed13a689",
   "metadata": {},
   "source": [
    "## 2. CLI documentation in depth\n",
    "Additional documentation can be found at\n",
    "\n",
    "[https://www.brainome.ai/documentation/tutorial_advanced/](https://www.brainome.ai/documentation/tutorial_advanced/)"
   ]
  },
  {
   "cell_type": "markdown",
   "id": "75e8fa0e",
   "metadata": {},
   "source": [
    "## Next steps\n",
    "- Check out [103 Model Selection](./brainome_103_Model_Selection.ipynb)\n",
    "- Check out [Using Measurement to Create Better Models](./brainome_200_Using_Measurement.ipynb)"
   ]
  }
 ],
 "metadata": {
  "kernelspec": {
   "display_name": "Python 3 (ipykernel)",
   "language": "python",
   "name": "python3"
  },
  "language_info": {
   "codemirror_mode": {
    "name": "ipython",
    "version": 3
   },
   "file_extension": ".py",
   "mimetype": "text/x-python",
   "name": "python",
   "nbconvert_exporter": "python",
   "pygments_lexer": "ipython3",
   "version": "3.8.1"
  }
 },
 "nbformat": 4,
 "nbformat_minor": 5
}
